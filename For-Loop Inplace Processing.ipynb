{
 "cells": [
  {
   "cell_type": "markdown",
   "id": "3e8fd2f5",
   "metadata": {},
   "source": [
    "## For-Loop Inplace processing \n",
    "https://stackoverflow.com/questions/79034486/using-for-loops-to-process-multiple-pandas-dataframes"
   ]
  },
  {
   "cell_type": "code",
   "execution_count": 5,
   "id": "1cf9c911",
   "metadata": {},
   "outputs": [
    {
     "name": "stdout",
     "output_type": "stream",
     "text": [
      "   depth  temp\n",
      "1    2.0     2\n",
      "2    3.0     3\n",
      "3    4.0     4 \n",
      "    depth  temp\n",
      "1      2     2\n",
      "2      3     3\n",
      "3      4     4\n",
      "4      5     5 \n",
      "    depth  temp\n",
      "1      2   2.0\n",
      "2      3   3.0\n",
      "3      4   4.0\n"
     ]
    }
   ],
   "source": [
    "import pandas as pd\n",
    "import numpy as np\n",
    "df1 = pd.DataFrame({'depth': [-1, 2, 3, 4, np.nan], 'temp': [-1,2,3,4,5]})\n",
    "df2 = pd.DataFrame({'depth': [1, 2, 3, 4, 5],       'temp': [-1,2,3,4,5]})\n",
    "df3 = pd.DataFrame({'depth': [1, 2, 3, 4, 5],       'temp': [-1,2,3,4,np.nan]})\n",
    "\n",
    "df_names=[df1, df2, df3]\n",
    "\n",
    "# THIS CODE DOES NOT WORK (SEE STACKOVERFLOW LINK)\n",
    "# for i in df_names:\n",
    "#     i.dropna(inplace=True)\n",
    "#     i=i[i['temp']>0]\n",
    "#     i=i[i['depth']>0]\n",
    "\n",
    "# THIS EXAMPLE OF INPLACE PROCESSING WORKS\n",
    "for df in df_names:\n",
    "    df.dropna(inplace = True)\n",
    "    df.drop(df[~(df['temp']>0)].index, inplace = True)\n",
    "    df.drop(df[~(df['depth']>0)].index, inplace = True)\n",
    "\n",
    "print(df1, '\\n', df2,'\\n', df3)"
   ]
  },
  {
   "cell_type": "code",
   "execution_count": null,
   "id": "c69f90b0",
   "metadata": {},
   "outputs": [],
   "source": []
  }
 ],
 "metadata": {
  "kernelspec": {
   "display_name": "Python 3 (ipykernel)",
   "language": "python",
   "name": "python3"
  },
  "language_info": {
   "codemirror_mode": {
    "name": "ipython",
    "version": 3
   },
   "file_extension": ".py",
   "mimetype": "text/x-python",
   "name": "python",
   "nbconvert_exporter": "python",
   "pygments_lexer": "ipython3",
   "version": "3.9.7"
  },
  "toc": {
   "base_numbering": 1,
   "nav_menu": {},
   "number_sections": true,
   "sideBar": true,
   "skip_h1_title": false,
   "title_cell": "Table of Contents",
   "title_sidebar": "Contents",
   "toc_cell": false,
   "toc_position": {},
   "toc_section_display": true,
   "toc_window_display": false
  },
  "varInspector": {
   "cols": {
    "lenName": 16,
    "lenType": 16,
    "lenVar": 40
   },
   "kernels_config": {
    "python": {
     "delete_cmd_postfix": "",
     "delete_cmd_prefix": "del ",
     "library": "var_list.py",
     "varRefreshCmd": "print(var_dic_list())"
    },
    "r": {
     "delete_cmd_postfix": ") ",
     "delete_cmd_prefix": "rm(",
     "library": "var_list.r",
     "varRefreshCmd": "cat(var_dic_list()) "
    }
   },
   "types_to_exclude": [
    "module",
    "function",
    "builtin_function_or_method",
    "instance",
    "_Feature"
   ],
   "window_display": false
  }
 },
 "nbformat": 4,
 "nbformat_minor": 5
}
