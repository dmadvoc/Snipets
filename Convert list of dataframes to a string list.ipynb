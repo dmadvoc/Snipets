{
 "cells": [
  {
   "cell_type": "markdown",
   "id": "857066e7",
   "metadata": {},
   "source": [
    "## Convert a list of dataframes to a string list\n",
    "- Found the code through an AI search and modified it to work on a loop"
   ]
  },
  {
   "cell_type": "code",
   "execution_count": 1,
   "id": "724cf046",
   "metadata": {},
   "outputs": [
    {
     "ename": "NameError",
     "evalue": "name 'df3972' is not defined",
     "output_type": "error",
     "traceback": [
      "\u001b[1;31m---------------------------------------------------------------------------\u001b[0m",
      "\u001b[1;31mNameError\u001b[0m                                 Traceback (most recent call last)",
      "\u001b[1;32m~\\AppData\\Local\\Temp/ipykernel_14420/2199845248.py\u001b[0m in \u001b[0;36m<module>\u001b[1;34m\u001b[0m\n\u001b[0;32m      1\u001b[0m \u001b[1;31m# list of dataframes\u001b[0m\u001b[1;33m\u001b[0m\u001b[1;33m\u001b[0m\u001b[0m\n\u001b[1;32m----> 2\u001b[1;33m \u001b[0mdfs\u001b[0m \u001b[1;33m=\u001b[0m\u001b[1;33m[\u001b[0m\u001b[0mdf3972\u001b[0m\u001b[1;33m,\u001b[0m\u001b[0mdf3371\u001b[0m\u001b[1;33m,\u001b[0m\u001b[0mdf4774\u001b[0m\u001b[1;33m,\u001b[0m\u001b[0mdf3775\u001b[0m\u001b[1;33m,\u001b[0m\u001b[0mdf4978\u001b[0m\u001b[1;33m,\u001b[0m\u001b[0mdf3978\u001b[0m\u001b[1;33m,\u001b[0m\u001b[0mdf4373\u001b[0m\u001b[1;33m,\u001b[0m\u001b[0mdf5470\u001b[0m\u001b[1;33m,\u001b[0m\u001b[0mdf4872\u001b[0m\u001b[1;33m]\u001b[0m\u001b[1;33m\u001b[0m\u001b[1;33m\u001b[0m\u001b[0m\n\u001b[0m\u001b[0;32m      3\u001b[0m \u001b[1;33m\u001b[0m\u001b[0m\n\u001b[0;32m      4\u001b[0m \u001b[1;31m# loop through dfs and convert to a string array, i.e., quote marks around each element\u001b[0m\u001b[1;33m\u001b[0m\u001b[1;33m\u001b[0m\u001b[0m\n\u001b[0;32m      5\u001b[0m \u001b[0mfilenames\u001b[0m\u001b[1;33m=\u001b[0m\u001b[1;33m[\u001b[0m\u001b[1;33m]\u001b[0m\u001b[1;33m\u001b[0m\u001b[1;33m\u001b[0m\u001b[0m\n",
      "\u001b[1;31mNameError\u001b[0m: name 'df3972' is not defined"
     ]
    }
   ],
   "source": [
    "# list of dataframes\n",
    "dfs =[df3972,df3371,df4774,df3775,df4978,df3978,df4373,df5470,df4872]\n",
    "\n",
    "# loop through dfs and convert to a string array, i.e., quote marks around each element\n",
    "filenames=[]\n",
    "for i in dfs:\n",
    "    df_name = [x for x in globals() if globals()[x] is i][0]\n",
    "    filenames.append(df_name)\n",
    "\n",
    "# Examine new list of dataframes with quote marks around each element    \n",
    "filenames\n",
    "\n",
    "# Convert list of filenames to a pandas dataframe\n",
    "df_filenames = pd.DataFrame(filenames, columns=['filename'])\n",
    "df_filenames"
   ]
  }
 ],
 "metadata": {
  "kernelspec": {
   "display_name": "Python 3 (ipykernel)",
   "language": "python",
   "name": "python3"
  },
  "language_info": {
   "codemirror_mode": {
    "name": "ipython",
    "version": 3
   },
   "file_extension": ".py",
   "mimetype": "text/x-python",
   "name": "python",
   "nbconvert_exporter": "python",
   "pygments_lexer": "ipython3",
   "version": "3.9.7"
  },
  "toc": {
   "base_numbering": 1,
   "nav_menu": {},
   "number_sections": true,
   "sideBar": true,
   "skip_h1_title": false,
   "title_cell": "Table of Contents",
   "title_sidebar": "Contents",
   "toc_cell": false,
   "toc_position": {},
   "toc_section_display": true,
   "toc_window_display": false
  },
  "varInspector": {
   "cols": {
    "lenName": 16,
    "lenType": 16,
    "lenVar": 40
   },
   "kernels_config": {
    "python": {
     "delete_cmd_postfix": "",
     "delete_cmd_prefix": "del ",
     "library": "var_list.py",
     "varRefreshCmd": "print(var_dic_list())"
    },
    "r": {
     "delete_cmd_postfix": ") ",
     "delete_cmd_prefix": "rm(",
     "library": "var_list.r",
     "varRefreshCmd": "cat(var_dic_list()) "
    }
   },
   "types_to_exclude": [
    "module",
    "function",
    "builtin_function_or_method",
    "instance",
    "_Feature"
   ],
   "window_display": false
  }
 },
 "nbformat": 4,
 "nbformat_minor": 5
}
