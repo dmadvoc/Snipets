{
 "cells": [
  {
   "cell_type": "markdown",
   "id": "367cfa6d",
   "metadata": {},
   "source": [
    "# Build a Statistics Table in Pandas\n",
    "- This routine builds a more robust table of satistics than Panda's built-in *describe* funtion\n",
    "- Includes a reliable *Mode* output using a histogram routine with 500 binns\n",
    "\n",
    "D.M. Advocate Nov 2023"
   ]
  },
  {
   "cell_type": "code",
   "execution_count": 1,
   "id": "21aafe4f",
   "metadata": {
    "code_folding": []
   },
   "outputs": [],
   "source": [
    "# Import key libraries and default display parameters\n",
    "import pandas as pd\n",
    "import numpy as np\n",
    "import matplotlib.pyplot as plt\n",
    "import plotly.express as px\n",
    "# SET GLOBAL STYLE PARAMETERS\n",
    "plt.style.use('ggplot') # This is a global setting\n",
    "plt.rcParams[\"figure.figsize\"]=8,6  #10 x 8 is default figure size in Jupyter Notebook\n",
    "plt.rcParams.update({'font.size': 12})"
   ]
  },
  {
   "cell_type": "markdown",
   "id": "0fa4064c",
   "metadata": {},
   "source": [
    "## Function to print statistics for a single variable"
   ]
  },
  {
   "cell_type": "code",
   "execution_count": 2,
   "id": "dd4892f6",
   "metadata": {
    "code_folding": []
   },
   "outputs": [],
   "source": [
    "# Create a function to print descriptive statistics for a single variable\n",
    "def my_stats(var):\n",
    "    import numpy as np\n",
    "    from scipy.stats import skew\n",
    "    from scipy.stats import kurtosis\n",
    "    from scipy import stats\n",
    "    \n",
    "    # Find the mode (ml) using a detailed histogram\n",
    "    n, bins, patches=plt.hist(var, bins=500, edgecolor='gray', density=True, alpha=.2)\n",
    "    plt.close()\n",
    "    mode_index = n.argmax()\n",
    "    mode=(bins[mode_index] + bins[mode_index+1])/2\n",
    "    #############################################\n",
    "    print('Descriptive Statistics')\n",
    "    print('mean:   ','{: ,.4f}'.format(np.mean(var)))\n",
    "    print('median: ','{: ,.4f}'.format(np.median(var)))\n",
    "    print('mode:   ','{: ,.4f}'.format(mode))\n",
    "    print('sem:    ','{: ,.4f}'.format(stats.sem(var)))\n",
    "    print('min:    ','{: ,.4f}'.format(np.min(var)))\n",
    "    print('max:    ','{: ,.4f}'.format(np.max(var)))\n",
    "    print('stdev:  ','{: ,.4f}'.format(np.std(var)))\n",
    "    print('skew:   ','{: ,.4f}'.format(skew(var)))\n",
    "    print('kurt:   ','{: ,.4f}'.format(kurtosis(var)))\n",
    "    print('p05:    ','{: ,.4f}'.format(np.percentile(var,5)))\n",
    "    print('p95:    ','{: ,.4f}'.format(np.percentile(var,95)))\n",
    "    print('count:  ','{: ,.4f}'.format(np.count_nonzero(var)))\n"
   ]
  },
  {
   "cell_type": "markdown",
   "id": "836a89f1",
   "metadata": {},
   "source": [
    "## Data"
   ]
  },
  {
   "cell_type": "code",
   "execution_count": 3,
   "id": "6badeaff",
   "metadata": {
    "code_folding": []
   },
   "outputs": [],
   "source": [
    "# koeb - Test Data\n",
    "oeb=[238050,99787,79080,47259,62046,29487,15833,19996,23703,27346,19587,11665,25793,18291,28766,25494,1187,8492,\n",
    "   17587,19396,15880,12922,35280,8930,13801,24808,23832,5452,3782,7825,307,4912,11793,5335,13496,6424,4051,5498,\n",
    "   4011,7106,23360,8186,14306,7277,3694,10242,2476,5755,6116,3519,4407,7229,8808,8294,3737,5115,3441,4930,2348,\n",
    "   4820,8226,3925,4308,3223,2563,6730,7484,21206,3093,3586,5660,5044,10421,2032,3516,3187,2415,3464,5111,4024,4131,\n",
    "   2733,3840,4010,8247,3378,1790,1937,2270,3319,2251,6151,3325,2326,2096]\n",
    "koeb=np.array(oeb)\n",
    "lkoeb=np.log(koeb)"
   ]
  },
  {
   "cell_type": "markdown",
   "id": "35f61fb5",
   "metadata": {},
   "source": [
    "##  Routine to write Descriptive Statistics Dataframe\n",
    "**Creates a table of statistics for muliple variables**\n",
    "- Requires inputs in 2 places (look for #<<<<<<<):  \n",
    "1) Data (arrays) variables to analyze   \n",
    "2) List variable names as 'strings\"  "
   ]
  },
  {
   "cell_type": "code",
   "execution_count": 4,
   "id": "2e97ddf9",
   "metadata": {
    "scrolled": true
   },
   "outputs": [
    {
     "data": {
      "text/html": [
       "<div>\n",
       "<style scoped>\n",
       "    .dataframe tbody tr th:only-of-type {\n",
       "        vertical-align: middle;\n",
       "    }\n",
       "\n",
       "    .dataframe tbody tr th {\n",
       "        vertical-align: top;\n",
       "    }\n",
       "\n",
       "    .dataframe thead tr th {\n",
       "        text-align: left;\n",
       "    }\n",
       "</style>\n",
       "<table border=\"1\" class=\"dataframe\">\n",
       "  <thead>\n",
       "    <tr>\n",
       "      <th></th>\n",
       "      <th>STAT</th>\n",
       "      <th>koeb</th>\n",
       "      <th>lkoeb</th>\n",
       "    </tr>\n",
       "  </thead>\n",
       "  <tbody>\n",
       "    <tr>\n",
       "      <th>0</th>\n",
       "      <td>MEAN</td>\n",
       "      <td>14,035.5</td>\n",
       "      <td>8.9</td>\n",
       "    </tr>\n",
       "    <tr>\n",
       "      <th>1</th>\n",
       "      <td>MEDIAN</td>\n",
       "      <td>5,755.0</td>\n",
       "      <td>8.7</td>\n",
       "    </tr>\n",
       "    <tr>\n",
       "      <th>2</th>\n",
       "      <td>MODE</td>\n",
       "      <td>3,397.7</td>\n",
       "      <td>8.3</td>\n",
       "    </tr>\n",
       "    <tr>\n",
       "      <th>3</th>\n",
       "      <td>STD</td>\n",
       "      <td>27,749.2</td>\n",
       "      <td>1.0</td>\n",
       "    </tr>\n",
       "    <tr>\n",
       "      <th>4</th>\n",
       "      <td>MIN</td>\n",
       "      <td>307.0</td>\n",
       "      <td>5.7</td>\n",
       "    </tr>\n",
       "    <tr>\n",
       "      <th>5</th>\n",
       "      <td>MAX</td>\n",
       "      <td>238,050.0</td>\n",
       "      <td>12.4</td>\n",
       "    </tr>\n",
       "    <tr>\n",
       "      <th>6</th>\n",
       "      <td>STD</td>\n",
       "      <td>27,749.2</td>\n",
       "      <td>1.0</td>\n",
       "    </tr>\n",
       "    <tr>\n",
       "      <th>7</th>\n",
       "      <td>SKEW</td>\n",
       "      <td>6.0</td>\n",
       "      <td>0.5</td>\n",
       "    </tr>\n",
       "    <tr>\n",
       "      <th>8</th>\n",
       "      <td>KURT</td>\n",
       "      <td>43.1</td>\n",
       "      <td>1.1</td>\n",
       "    </tr>\n",
       "    <tr>\n",
       "      <th>9</th>\n",
       "      <td>P05</td>\n",
       "      <td>2,076.8</td>\n",
       "      <td>7.6</td>\n",
       "    </tr>\n",
       "    <tr>\n",
       "      <th>10</th>\n",
       "      <td>P95</td>\n",
       "      <td>38,873.7</td>\n",
       "      <td>10.6</td>\n",
       "    </tr>\n",
       "    <tr>\n",
       "      <th>11</th>\n",
       "      <td>N</td>\n",
       "      <td>95.0</td>\n",
       "      <td>95.0</td>\n",
       "    </tr>\n",
       "  </tbody>\n",
       "</table>\n",
       "</div>"
      ],
      "text/plain": [
       "      STAT      koeb lkoeb\n",
       "0     MEAN  14,035.5   8.9\n",
       "1   MEDIAN   5,755.0   8.7\n",
       "2     MODE   3,397.7   8.3\n",
       "3      STD  27,749.2   1.0\n",
       "4      MIN     307.0   5.7\n",
       "5      MAX 238,050.0  12.4\n",
       "6      STD  27,749.2   1.0\n",
       "7     SKEW       6.0   0.5\n",
       "8     KURT      43.1   1.1\n",
       "9      P05   2,076.8   7.6\n",
       "10     P95  38,873.7  10.6\n",
       "11       N      95.0  95.0"
      ]
     },
     "metadata": {},
     "output_type": "display_data"
    }
   ],
   "source": [
    "# Calculate Statsitics from data arrays and summarize in a Dataframe\n",
    "import numpy as np\n",
    "from scipy.stats import skew\n",
    "from scipy.stats import kurtosis\n",
    "from scipy import stats\n",
    "\n",
    "vars =[koeb, lkoeb]             #<<<<<<<< List Variables to Analyze\n",
    "var_names=['koeb', 'lkoeb']     #<<<<<<<< List Variable Names to Anaylyze\n",
    "\n",
    "##################### CALCULATE STATISTICS ######################################\n",
    "out=[]\n",
    "for i in vars:\n",
    "    ############## Find the mode (ml) using a detailed histogram ########\n",
    "    n, bins, patches=plt.hist(i, bins=500, edgecolor='gray', density=True, alpha=.2)\n",
    "    plt.close()\n",
    "    mode_index = n.argmax()\n",
    "    mode=(bins[mode_index] + bins[mode_index+1])/2\n",
    "    #####################################################################\n",
    "    mean   =np.mean(i)\n",
    "    median =np.median(i)\n",
    "    std    =stats.sem(i)\n",
    "    Min    =np.min(i)\n",
    "    Max    =np.max(i)\n",
    "    std    =np.std(i)\n",
    "    skw    =skew(i)\n",
    "    kurt   =kurtosis(i)\n",
    "    p05    =np.percentile(i,5)\n",
    "    p95    =np.percentile(i,95)\n",
    "    n      =np.count_nonzero(i)\n",
    "    out.append([mean, median, mode, std, Min, Max, std, skw, kurt, p05, p95, n])\n",
    "    ############################################################################\n",
    "    \n",
    "# Merge the frequency and bins arrays into a dataframe\n",
    "rows= ['MEAN', 'MEDIAN', 'MODE', 'STD', 'MIN', 'MAX', 'STD', 'SKEW', 'KURT', 'P05', 'P95', 'N' ]\n",
    "df_rows = pd.DataFrame(rows)\n",
    "\n",
    "# Asign variable names and set to indexed position in the OUT array\n",
    "cnt=len(var_names)\n",
    "j=0\n",
    "while(j < cnt):\n",
    "    for i in var_names:\n",
    "        globals()[\"df_\"+str(i)]=pd.DataFrame(out[j])\n",
    "        j=j+1\n",
    "\n",
    "df  = pd.concat([df_rows, df_koeb, df_lkoeb], axis=1) #<<<<<< List Variables\n",
    "\n",
    "cols=['STAT']+var_names\n",
    "df.columns=[cols]\n",
    "\n",
    "pd.options.display.float_format = \"{:,.1f}\".format\n",
    "\n",
    "display(df)"
   ]
  },
  {
   "cell_type": "code",
   "execution_count": 5,
   "id": "68babfa6",
   "metadata": {},
   "outputs": [
    {
     "name": "stdout",
     "output_type": "stream",
     "text": [
      "Descriptive Statistics\n",
      "mean:     14,035.4947\n",
      "median:   5,755.0000\n",
      "mode:     3,397.6590\n",
      "sem:      2,862.1122\n",
      "min:      307.0000\n",
      "max:      238,050.0000\n",
      "stdev:    27,749.2069\n",
      "skew:     6.0395\n",
      "kurt:     43.1201\n",
      "p05:      2,076.8000\n",
      "p95:      38,873.7000\n",
      "count:    95.0000\n"
     ]
    }
   ],
   "source": [
    "# Prints stats for a single variable\n",
    "my_stats(koeb)"
   ]
  }
 ],
 "metadata": {
  "kernelspec": {
   "display_name": "Python 3 (ipykernel)",
   "language": "python",
   "name": "python3"
  },
  "language_info": {
   "codemirror_mode": {
    "name": "ipython",
    "version": 3
   },
   "file_extension": ".py",
   "mimetype": "text/x-python",
   "name": "python",
   "nbconvert_exporter": "python",
   "pygments_lexer": "ipython3",
   "version": "3.9.12"
  },
  "toc": {
   "base_numbering": 1,
   "nav_menu": {},
   "number_sections": true,
   "sideBar": true,
   "skip_h1_title": false,
   "title_cell": "Table of Contents",
   "title_sidebar": "Contents",
   "toc_cell": false,
   "toc_position": {},
   "toc_section_display": true,
   "toc_window_display": true
  },
  "varInspector": {
   "cols": {
    "lenName": 16,
    "lenType": 16,
    "lenVar": 40
   },
   "kernels_config": {
    "python": {
     "delete_cmd_postfix": "",
     "delete_cmd_prefix": "del ",
     "library": "var_list.py",
     "varRefreshCmd": "print(var_dic_list())"
    },
    "r": {
     "delete_cmd_postfix": ") ",
     "delete_cmd_prefix": "rm(",
     "library": "var_list.r",
     "varRefreshCmd": "cat(var_dic_list()) "
    }
   },
   "types_to_exclude": [
    "module",
    "function",
    "builtin_function_or_method",
    "instance",
    "_Feature"
   ],
   "window_display": false
  }
 },
 "nbformat": 4,
 "nbformat_minor": 5
}
